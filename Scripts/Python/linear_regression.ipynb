{
  "cells": [
    {
      "cell_type": "markdown",
      "metadata": {
        "id": "_5EDfV-zLAgq"
      },
      "source": [
        "# Data Analysis and Mining\n",
        "## Linear Regression Tutorial\n",
        "\n"
      ]
    },
    {
      "cell_type": "markdown",
      "metadata": {
        "id": "swHYWx5KLAgs"
      },
      "source": [
        "### Objectives\n",
        "- Perform simple linear regression\n",
        "- Use correlation analysis to determine whether two quantities are related to justify fitting the data.\n",
        "- Fit a linear model to the data.\n",
        "- Evaluate the goodness of fit by plotting residuals and looking for patterns.\n",
        "- Calculate measures of goodness of fit R2 and adjusted R2"
      ]
    },
    {
      "cell_type": "markdown",
      "metadata": {
        "id": "jsmSQCi6LL24"
      },
      "source": [
        "## Import dataset"
      ]
    },
    {
      "cell_type": "code",
      "execution_count": 3,
      "metadata": {
        "id": "0MY7y8FiLMLo"
      },
      "outputs": [],
      "source": [
        "import pandas as pd\n",
        "\n",
        "# Specify the path to the dataset CSV file\n",
        "dataset_path = \"../../Dataset/dataset.csv\"\n",
        "\n",
        "# Read the dataset into a pandas DataFrame\n",
        "df = pd.read_csv(dataset_path)\n"
      ]
    }
  ],
  "metadata": {
    "colab": {
      "provenance": []
    },
    "kernelspec": {
      "display_name": "Python 3",
      "language": "python",
      "name": "python3"
    },
    "language_info": {
      "codemirror_mode": {
        "name": "ipython",
        "version": 3
      },
      "file_extension": ".py",
      "mimetype": "text/x-python",
      "name": "python",
      "nbconvert_exporter": "python",
      "pygments_lexer": "ipython3",
      "version": "3.10.2"
    }
  },
  "nbformat": 4,
  "nbformat_minor": 0
}
